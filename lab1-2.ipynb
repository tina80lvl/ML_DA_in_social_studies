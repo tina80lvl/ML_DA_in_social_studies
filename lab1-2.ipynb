{
 "cells": [
  {
   "cell_type": "markdown",
   "metadata": {
    "collapsed": true,
    "pycharm": {
     "name": "#%% md\n"
    }
   },
   "source": [
    "# Lab1-2"
   ]
  },
  {
   "cell_type": "code",
   "execution_count": 1,
   "metadata": {
    "pycharm": {
     "name": "#%%\n"
    }
   },
   "outputs": [],
   "source": [
    "import re\n",
    "import unicodedata\n",
    "import pandas as pd\n",
    "import numpy as np\n",
    "import math\n",
    "from sklearn.feature_extraction import text\n",
    "from sklearn.svm import LinearSVC, SVC\n",
    "from sklearn.metrics import classification_report, mean_squared_error, mean_absolute_error\n",
    "from sklearn.preprocessing import LabelEncoder, OneHotEncoder\n",
    "from scipy.sparse import hstack\n",
    "from datetime import time\n",
    "from sklearn.linear_model import RidgeClassifier, Ridge"
   ]
  },
  {
   "cell_type": "markdown",
   "metadata": {
    "pycharm": {
     "name": "#%% md\n"
    }
   },
   "source": [
    "Use function which clean URL, EMOJI(unicode only), HASHTAG, EMAIL, CASHTAG, DATE, TIME, EMPHASIS, ELONG\n",
    "\n",
    "But not MENTION (it's positively affects on result).\n",
    "\n",
    "Also the function `clean.fit` normalize text: expand contraction, fix typos, etc."
   ]
  },
  {
   "cell_type": "code",
   "execution_count": 2,
   "metadata": {
    "pycharm": {
     "name": "#%%\n"
    }
   },
   "outputs": [],
   "source": [
    "class clean:\n",
    "    def __init__(self):\n",
    "        self.regex_dict = {\n",
    "            'URL': r\"\"\"(?xi)\\b(?:(?:https?|ftp|file):\\/\\/|www\\.|ftp\\.|pic\\.|twitter\\.|facebook\\.)(?:\\([-A-Z0-9+&@#\\/%=~_|$?!:;,.]*\\)|[-A-Z0-9+&@#\\/%=~_|$?!:;,.])*(?:\\([-A-Z0-9+&@#\\/%=~_|$?!:,.]*\\)|[A-Z0-9+&@#\\/%=~_|$])\"\"\",\n",
    "            'EMOJI': u'([\\U0001F1E0-\\U0001F1FF])|([\\U0001F300-\\U0001F5FF])|([\\U0001F600-\\U0001F64F])|([\\U0001F680-\\U0001F6FF])|([\\U0001F700-\\U0001F77F])|([\\U0001F800-\\U0001F8FF])|([\\U0001F900-\\U0001F9FF])|([\\U0001FA00-\\U0001FA6F])|([\\U0001FA70-\\U0001FAFF])|([\\U00002702-\\U000027B0])|([\\U00002600-\\U000027BF])|([\\U0001f300-\\U0001f64F])|([\\U0001f680-\\U0001f6FF])',\n",
    "            'HASHTAG': r\"\\#\\b[\\w\\-\\_]+\\b\",\n",
    "            'EMAIL': r\"(?:^|(?<=[^\\w@.)]))(?:[\\w+-](?:\\.(?!\\.))?)*?[\\w+-]@(?:\\w-?)*?\\w+(?:\\.(?:[a-z]{2,})){1,3}(?:$|(?=\\b))\",\n",
    "            'CASHTAG': r\"(?:[$\\u20ac\\u00a3\\u00a2]\\d+(?:[\\\\.,']\\d+)?(?:[MmKkBb](?:n|(?:il(?:lion)?))?)?)|(?:\\d+(?:[\\\\.,']\\\\d+)?[$\\u20ac\\u00a3\\u00a2])\",\n",
    "            'DATE': r\"(?:(?:(?:(?:(?<!:)\\b\\'?\\d{1,4},? ?)?\\b(?:[Jj]an(?:uary)?|[Ff]eb(?:ruary)?|[Mm]ar(?:ch)?|[Aa]pr(?:il)?|May|[Jj]un(?:e)?|[Jj]ul(?:y)?|[Aa]ug(?:ust)?|[Ss]ept?(?:ember)?|[Oo]ct(?:ober)?|[Nn]ov(?:ember)?|[Dd]ec(?:ember)?)\\b(?:(?:,? ?\\'?)?\\d{1,4}(?:st|nd|rd|n?th)?\\b(?:[,\\\\/]? ?\\'?\\d{2,4}[a-zA-Z]*)?(?: ?- ?\\d{2,4}[a-zA-Z]*)?(?!:\\d{1,4})\\b))|(?:(?:(?<!:)\\b\\\\'?\\d{1,4},? ?)\\b(?:[Jj]an(?:uary)?|[Ff]eb(?:ruary)?|[Mm]ar(?:ch)?|[Aa]pr(?:il)?|May|[Jj]un(?:e)?|[Jj]ul(?:y)?|[Aa]ug(?:ust)?|[Ss]ept?(?:ember)?|[Oo]ct(?:ober)?|[Nn]ov(?:ember)?|[Dd]ec(?:ember)?)\\b(?:(?:,? ?\\'?)?\\d{1,4}(?:st|nd|rd|n?th)?\\b(?:[,\\\\/]? ?\\'?\\d{2,4}[a-zA-Z]*)?(?: ?- ?\\d{2,4}[a-zA-Z]*)?(?!:\\d{1,4})\\b)?))|(?:\\b(?<!\\d\\\\.)(?:(?:(?:[0123]?[0-9][\\\\.\\\\-\\\\/])?[0123]?[0-9][\\\\.\\\\-\\\\/][12][0-9]{3})|(?:[0123]?[0-9][\\\\.\\\\-\\\\/][0123]?[0-9][\\\\.\\\\-\\\\/][12]?[0-9]{2,3}))(?!\\.\\d)\\b))\",\n",
    "            'TIME': r'(?:(?:\\d+)?\\\\.?\\d+(?:AM|PM|am|pm|a\\\\.m\\\\.|p\\\\.m\\\\.))|(?:(?:[0-2]?[0-9]|[2][0-3]):(?:[0-5][0-9])(?::(?:[0-5][0-9]))?(?: ?(?:AM|PM|am|pm|a\\\\.m\\\\.|p\\\\.m\\\\.))?)',\n",
    "            'EMPHASIS': r\"(?:\\*\\b\\w+\\b\\*)\",\n",
    "            'ELONG': r\"\\b[A-Za-z]*([a-zA-Z])\\1\\1[A-Za-z]*\\b\"}\n",
    "\n",
    "        self.contraction_mapping = {\"’\": \"'\", \"RT \": \" \", \"ain't\": \"is not\", \"aren't\": \"are not\", \"can't\": \"can not\",\n",
    "                                    \"'cause\": \"because\", \"could've\": \"could have\",\n",
    "                                    \"couldn't\": \"could not\", \"didn't\": \"did not\", \"doesn't\": \"does not\",\n",
    "                                    \"don't\": \"do not\", \"hadn't\": \"had not\",\n",
    "                                    \"hasn't\": \"has not\", \"haven't\": \"have not\", \"he'd\": \"he would\", \"he'll\": \"he will\",\n",
    "                                    \"he's\": \"he is\",\n",
    "                                    \"how'd\": \"how did\", \"how'd'y\": \"how do you\", \"how'll\": \"how will\",\n",
    "                                    \"how's\": \"how is\", \"I'd\": \"I would\",\n",
    "                                    \"I'd've\": \"I would have\", \"I'll\": \"I will\", \"I'll've\": \"I will have\", \"I'm\": \"I am\",\n",
    "                                    \"I've\": \"I have\",\n",
    "                                    \"i'd\": \"i would\", \"i'd've\": \"i would have\", \"i'll\": \"i will\",\n",
    "                                    \"i'll've\": \"i will have\", \"i'm\": \"i am\",\n",
    "                                    \"i've\": \"i have\", \"isn't\": \"is not\", \"it'd\": \"it would\", \"it'd've\": \"it would have\",\n",
    "                                    \"it'll\": \"it will\",\n",
    "                                    \"it'll've\": \"it will have\", \"it's\": \"it is\", \"it’s\": \"it is\", \"let's\": \"let us\",\n",
    "                                    \"ma'am\": \"madam\", \"mayn't\": \"may not\",\n",
    "                                    \"might've\": \"might have\", \"mightn't\": \"might not\", \"mightn't've\": \"might not have\",\n",
    "                                    \"must've\": \"must have\",\n",
    "                                    \"mustn't\": \"must not\", \"mustn't've\": \"must not have\", \"needn't\": \"need not\",\n",
    "                                    \"needn't've\": \"need not have\",\n",
    "                                    \"o'clock\": \"of the clock\", \"oughtn't\": \"ought not\", \"oughtn't've\": \"ought not have\",\n",
    "                                    \"shan't\": \"shall not\",\n",
    "                                    \"sha'n't\": \"shall not\", \"shan't've\": \"shall not have\", \"she'd\": \"she would\",\n",
    "                                    \"she'd've\": \"she would have\",\n",
    "                                    \"she'll\": \"she will\", \"she'll've\": \"she will have\", \"she's\": \"she is\",\n",
    "                                    \"should've\": \"should have\",\n",
    "                                    \"shouldn't\": \"should not\", \"shouldn't've\": \"should not have\", \"so've\": \"so have\",\n",
    "                                    \"so's\": \"so as\",\n",
    "                                    \"this's\": \"this is\", \"that'd\": \"that would\", \"that'd've\": \"that would have\",\n",
    "                                    \"that's\": \"that is\",\n",
    "                                    \"there'd\": \"there would\", \"there'd've\": \"there would have\", \"there's\": \"there is\",\n",
    "                                    \"here's\": \"here is\",\n",
    "                                    \"they'd\": \"they would\", \"they'd've\": \"they would have\", \"they'll\": \"they will\",\n",
    "                                    \"they'll've\": \"they will have\",\n",
    "                                    \"they're\": \"they are\", \"they've\": \"they have\", \"to've\": \"to have\",\n",
    "                                    \"wasn't\": \"was not\", \"we'd\": \"we would\",\n",
    "                                    \"we'd've\": \"we would have\", \"we'll\": \"we will\", \"we'll've\": \"we will have\",\n",
    "                                    \"we're\": \"we are\", \"we've\": \"we have\",\n",
    "                                    \"weren't\": \"were not\", \"what'll\": \"what will\", \"what'll've\": \"what will have\",\n",
    "                                    \"what're\": \"what are\",\n",
    "                                    \"what's\": \"what is\", \"what've\": \"what have\", \"when's\": \"when is\",\n",
    "                                    \"when've\": \"when have\", \"where'd\": \"where did\",\n",
    "                                    \"where's\": \"where is\", \"where've\": \"where have\", \"who'll\": \"who will\",\n",
    "                                    \"who'll've\": \"who will have\",\n",
    "                                    \"who's\": \"who is\", \"who've\": \"who have\", \"why's\": \"why is\", \"why've\": \"why have\",\n",
    "                                    \"will've\": \"will have\",\n",
    "                                    \"won't\": \"will not\", \"won't've\": \"will not have\", \"would've\": \"would have\",\n",
    "                                    \"wouldn't\": \"would not\",\n",
    "                                    \"wouldn't've\": \"would not have\", \"y'all\": \"you all\", \"y'all'd\": \"you all would\",\n",
    "                                    \"y'all'd've\": \"you all would have\",\n",
    "                                    \"y'all're\": \"you all are\", \"y'all've\": \"you all have\", \"you'd\": \"you would\",\n",
    "                                    \"you'd've\": \"you would have\",\n",
    "                                    \"you'll\": \"you will\", \"you'll've\": \"you will have\", \"you're\": \"you are\",\n",
    "                                    \"you've\": \"you have\", \"It's\": \"It is\", \"You'd\": \"You would\",\n",
    "                                    ' u ': \" you \", 'yrs': 'years', 'FYI': 'For your information', ' im ': ' I am ',\n",
    "                                    'lol': 'LOL', 'You\\'re': 'You are'\n",
    "            , 'can’t': 'can not', '…': '. ', '...': '. ', '\\'\\'': '\\'', '≠': '', 'ain’t': 'am not', 'I’m': 'I am',\n",
    "                                    'RT\\'s': ''}\n",
    "        self.emoticons = {\n",
    "            ':*': '<kiss>',\n",
    "            ':-*': '<kiss>',\n",
    "            ':x': '<kiss>',\n",
    "            ':-)': '<happy>',\n",
    "            ':-))': '<happy>',\n",
    "            ':-)))': '<happy>',\n",
    "            ':-))))': '<happy>',\n",
    "            ':-)))))': '<happy>',\n",
    "            ':-))))))': '<happy>',\n",
    "            ':)': '<happy>',\n",
    "            ':))': '<happy>',\n",
    "            ':)))': '<happy>',\n",
    "            ':))))': '<happy>',\n",
    "            ':)))))': '<happy>',\n",
    "            ':))))))': '<happy>',\n",
    "            ':)))))))': '<happy>',\n",
    "            ':o)': '<happy>',\n",
    "            ':]': '<happy>',\n",
    "            ':3': '<happy>',\n",
    "            ':c)': '<happy>',\n",
    "            ':>': '<happy>',\n",
    "            '=]': '<happy>',\n",
    "            '8)': '<happy>',\n",
    "            '=)': '<happy>',\n",
    "            ':}': '<happy>',\n",
    "            ':^)': '<happy>',\n",
    "            '|;-)': '<happy>',\n",
    "            \":'-)\": '<happy>',\n",
    "            \":')\": '<happy>',\n",
    "            '\\o/': '<happy>',\n",
    "            '*\\\\0/*': '<happy>',\n",
    "            ':-D': '<laugh>',\n",
    "            ':D': '<laugh>',\n",
    "            '8-D': '<laugh>',\n",
    "            '8D': '<laugh>',\n",
    "            'x-D': '<laugh>',\n",
    "            'xD': '<laugh>',\n",
    "            'X-D': '<laugh>',\n",
    "            'XD': '<laugh>',\n",
    "            '=-D': '<laugh>',\n",
    "            '=D': '<laugh>',\n",
    "            '=-3': '<laugh>',\n",
    "            '=3': '<laugh>',\n",
    "            'B^D': '<laugh>',\n",
    "            '>:[': '<sad>',\n",
    "            ':-(': '<sad>',\n",
    "            ':-((': '<sad>',\n",
    "            ':-(((': '<sad>',\n",
    "            ':-((((': '<sad>',\n",
    "            ':-(((((': '<sad>',\n",
    "            ':-((((((': '<sad>',\n",
    "            ':-(((((((': '<sad>',\n",
    "            ':(': '<sad>',\n",
    "            ':((': '<sad>',\n",
    "            ':(((': '<sad>',\n",
    "            ':((((': '<sad>',\n",
    "            ':(((((': '<sad>',\n",
    "            ':((((((': '<sad>',\n",
    "            ':(((((((': '<sad>',\n",
    "            ':((((((((': '<sad>',\n",
    "            ':-c': '<sad>',\n",
    "            ':c': '<sad>',\n",
    "            ':-<': '<sad>',\n",
    "            ':<': '<sad>',\n",
    "            ':-[': '<sad>',\n",
    "            ':[': '<sad>',\n",
    "            ':{': '<sad>',\n",
    "            ':-||': '<sad>',\n",
    "            ':@': '<sad>',\n",
    "            \":'-(\": '<sad>',\n",
    "            \":'(\": '<sad>',\n",
    "            'D:<': '<sad>',\n",
    "            'D:': '<sad>',\n",
    "            'D8': '<sad>',\n",
    "            'D;': '<sad>',\n",
    "            'D=': '<sad>',\n",
    "            'DX': '<sad>',\n",
    "            'v.v': '<sad>',\n",
    "            \"D-':\": '<sad>',\n",
    "            '(>_<)': '<sad>',\n",
    "            ':|': '<sad>',\n",
    "            '>:O': '<surprise>',\n",
    "            ':-O': '<surprise>',\n",
    "            ':-o': '<surprise>',\n",
    "            ':O': '<surprise>',\n",
    "            '°o°': '<surprise>',\n",
    "            'o_O': '<surprise>',\n",
    "            'o_0': '<surprise>',\n",
    "            'o.O': '<surprise>',\n",
    "            'o-o': '<surprise>',\n",
    "            '8-0': '<surprise>',\n",
    "            '|-O': '<surprise>',\n",
    "            ';-)': '<wink>',\n",
    "            ';)': '<wink>',\n",
    "            '*-)': '<wink>',\n",
    "            '*)': '<wink>',\n",
    "            ';-]': '<wink>',\n",
    "            ';]': '<wink>',\n",
    "            ';D': '<wink>',\n",
    "            ';^)': '<wink>',\n",
    "            ':-,': '<wink>',\n",
    "            '>:P': '<tong>',\n",
    "            ':-P': '<tong>',\n",
    "            ':P': '<tong>',\n",
    "            'X-P': '<tong>',\n",
    "            'x-p': '<tong>',\n",
    "            ':-p': '<tong>',\n",
    "            ':p': '<tong>',\n",
    "            '=p': '<tong>',\n",
    "            ':-Þ': '<tong>',\n",
    "            ':Þ': '<tong>',\n",
    "            ':-b': '<tong>',\n",
    "            ':b': '<tong>',\n",
    "            ':-&': '<tong>',\n",
    "            '>:\\\\': '<annoyed>',\n",
    "            '>:/': '<annoyed>',\n",
    "            ':-/': '<annoyed>',\n",
    "            ':-.': '<annoyed>',\n",
    "            ':/': '<annoyed>',\n",
    "            ':\\\\': '<annoyed>',\n",
    "            '=/': '<annoyed>',\n",
    "            '=\\\\': '<annoyed>',\n",
    "            ':L': '<annoyed>',\n",
    "            '=L': '<annoyed>',\n",
    "            ':S': '<annoyed>',\n",
    "            '>.<': '<annoyed>',\n",
    "            ':-|': '<annoyed>',\n",
    "            '<:-|': '<annoyed>',\n",
    "            ':-X': '<seallips>',\n",
    "            ':X': '<seallips>',\n",
    "            ':-#': '<seallips>',\n",
    "            ':#': '<seallips>',\n",
    "            'O:-)': '<angel>',\n",
    "            '0:-3': '<angel>',\n",
    "            '0:3': '<angel>',\n",
    "            '0:-)': '<angel>',\n",
    "            '0:)': '<angel>',\n",
    "            '0;^)': '<angel>',\n",
    "            '>:)': '<devil>',\n",
    "            '>:D': '<devil>',\n",
    "            '>:-D': '<devil>',\n",
    "            '>;)': '<devil>',\n",
    "            '>:-)': '<devil>',\n",
    "            '}:-)': '<devil>',\n",
    "            '}:)': '<devil>',\n",
    "            '3:-)': '<devil>',\n",
    "            '3:)': '<devil>',\n",
    "            'o/\\o': '<highfive>',\n",
    "            '^5': '<highfive>',\n",
    "            '>_>^': '<highfive>',\n",
    "            '^<_<': '<highfive>',\n",
    "            '<3': '<heart>',\n",
    "            '^3^': '<smile>',\n",
    "            \"(':\": '<smile>',\n",
    "            \" > < \": '<smile>',\n",
    "            \"UvU\": '<smile>',\n",
    "            \"uwu\": '<smile>',\n",
    "            'UwU': '<smile>'\n",
    "        }\n",
    "\n",
    "    def get_compiled(self):\n",
    "        regexes = {k: re.compile(self.regex_dict[k]) for k, v in\n",
    "                   self.regex_dict.items()}\n",
    "        return regexes\n",
    "\n",
    "    def fit(self, Example):\n",
    "        regex = self.get_compiled()\n",
    "        for key, reg in regex.items():\n",
    "            Example = regex[key].sub(lambda m: \" <\" + key + \"> \",\n",
    "                                               Example)\n",
    "        for word in self.emoticons.keys():\n",
    "            Example = Example.replace(word, self.emoticons[word])\n",
    "        Example = Example.lower()\n",
    "        for word in self.contraction_mapping.keys():\n",
    "            Example = Example.replace(word, self.contraction_mapping[word])\n",
    "        Example = re.sub(r\"[\\-\\\"`@#$%^&*(|)/~\\[\\]{\\}:;+,._='!?]+\", \" \", Example)\n",
    "        Example = unicodedata.normalize('NFKD', Example).encode('ascii', errors='ignore').decode('utf8',\n",
    "                                                                                                 errors='ignore')\n",
    "        Example = re.sub(r'\\b([b-hB-Hj-zJ-Z] )', ' ', Example)\n",
    "        Example = re.sub(r'( [b-hB-Hj-zJ-Z])\\b', ' ', Example)\n",
    "        Example = ' '.join(Example.split())\n",
    "        return Example"
   ]
  },
  {
   "cell_type": "markdown",
   "metadata": {},
   "source": [
    "Preprocessing for predicting organization, use class `clean`"
   ]
  },
  {
   "cell_type": "code",
   "execution_count": 3,
   "metadata": {
    "pycharm": {
     "name": "#%%\n"
    }
   },
   "outputs": [
    {
     "data": {
      "text/plain": [
       "LinearSVC()"
      ]
     },
     "execution_count": 3,
     "metadata": {},
     "output_type": "execute_result"
    }
   ],
   "source": [
    "train = pd.read_csv(\"Train.csv\")\n",
    "organization_vectorizer = text.TfidfVectorizer(analyzer='word', min_df=1)\n",
    "\n",
    "tweets_texts = train['TweetText'].apply(clean().fit)\n",
    "feature = organization_vectorizer.fit_transform(tweets_texts)\n",
    "organization_clf = LinearSVC()\n",
    "organization_clf.fit(feature, train['Topic'])"
   ]
  },
  {
   "cell_type": "code",
   "execution_count": 4,
   "metadata": {
    "pycharm": {
     "name": "#%%\n"
    }
   },
   "outputs": [
    {
     "name": "stdout",
     "output_type": "stream",
     "text": [
      "              precision    recall  f1-score   support\n",
      "\n",
      "       apple       0.93      0.95      0.94        98\n",
      "      google       0.82      0.70      0.75        79\n",
      "   microsoft       0.75      0.68      0.71        78\n",
      "     twitter       0.69      0.83      0.75        87\n",
      "\n",
      "    accuracy                           0.80       342\n",
      "   macro avg       0.80      0.79      0.79       342\n",
      "weighted avg       0.80      0.80      0.80       342\n",
      "\n"
     ]
    }
   ],
   "source": [
    "test = pd.read_csv(\"Test.csv\")\n",
    "tweets_test_texts = test['TweetText'].apply(clean().fit)\n",
    "test_feature = organization_vectorizer.transform(tweets_test_texts)\n",
    "print(classification_report(test['Topic'], organization_clf.predict(test_feature)))"
   ]
  },
  {
   "cell_type": "markdown",
   "metadata": {},
   "source": [
    "Preprocessing for predicting 1 of 3 sentiments, use predicted organization as feature"
   ]
  },
  {
   "cell_type": "code",
   "execution_count": 5,
   "metadata": {
    "pycharm": {
     "name": "#%%\n"
    }
   },
   "outputs": [
    {
     "data": {
      "text/plain": [
       "LinearSVC()"
      ]
     },
     "execution_count": 5,
     "metadata": {},
     "output_type": "execute_result"
    }
   ],
   "source": [
    "encoder = LabelEncoder()\n",
    "encoder.fit(train['Topic'])\n",
    "def get_org(tweet_text):\n",
    "    arr = encoder.transform(organization_clf.predict(organization_vectorizer.transform(tweet_text)))\n",
    "    return np.asmatrix(arr).transpose()\n",
    "\n",
    "sentiment_vectorizer = text.TfidfVectorizer()\n",
    "\n",
    "sentiment_feature = hstack([sentiment_vectorizer.fit_transform(tweets_texts), get_org(tweets_texts)])\n",
    "sentiment_clf = LinearSVC()\n",
    "sentiment_clf.fit(sentiment_feature, train['Sentiment'])"
   ]
  },
  {
   "cell_type": "code",
   "execution_count": 6,
   "metadata": {
    "pycharm": {
     "name": "#%%\n"
    }
   },
   "outputs": [
    {
     "name": "stdout",
     "output_type": "stream",
     "text": [
      "              precision    recall  f1-score   support\n",
      "\n",
      "  irrelevant       0.86      0.90      0.88       105\n",
      "    negative       0.68      0.55      0.61        49\n",
      "     neutral       0.77      0.82      0.79       156\n",
      "    positive       0.58      0.47      0.52        32\n",
      "\n",
      "    accuracy                           0.77       342\n",
      "   macro avg       0.72      0.68      0.70       342\n",
      "weighted avg       0.77      0.77      0.77       342\n",
      "\n"
     ]
    }
   ],
   "source": [
    "test_sentiment_feature = hstack([sentiment_vectorizer.transform(tweets_test_texts), get_org(tweets_test_texts)])\n",
    "print(classification_report(test['Sentiment'], sentiment_clf.predict(test_sentiment_feature)))"
   ]
  },
  {
   "cell_type": "markdown",
   "metadata": {
    "pycharm": {
     "name": "#%% md\n"
    }
   },
   "source": [
    "Predicting sentiment using hour and weekday of post"
   ]
  },
  {
   "cell_type": "code",
   "execution_count": 7,
   "metadata": {
    "pycharm": {
     "name": "#%%\n"
    }
   },
   "outputs": [
    {
     "data": {
      "text/plain": [
       "LinearSVC()"
      ]
     },
     "execution_count": 7,
     "metadata": {},
     "output_type": "execute_result"
    }
   ],
   "source": [
    "weekday_train_feature = np.array(train['TweetDate'].apply(lambda s: s.split()[0])).reshape(-1, 1)\n",
    "hour_train_feature = np.array(train['TweetDate'].apply(lambda s: time.fromisoformat(s.split()[3]).hour)).reshape(-1, 1)\n",
    "\n",
    "org_encoder_weekday = OneHotEncoder()\n",
    "org_encoder_hours = OneHotEncoder()\n",
    "org_encoder_weekday.fit(weekday_train_feature)\n",
    "org_encoder_hours.fit(hour_train_feature)\n",
    "\n",
    "text_sentiment_feature = hstack([sentiment_vectorizer.transform(tweets_texts),\n",
    "                                 org_encoder_weekday.transform(weekday_train_feature),\n",
    "                                 org_encoder_hours.transform(hour_train_feature)])\n",
    "clf_sentiment_with_time=LinearSVC()\n",
    "clf_sentiment_with_time.fit(text_sentiment_feature, train['Sentiment'])"
   ]
  },
  {
   "cell_type": "code",
   "execution_count": 8,
   "metadata": {
    "pycharm": {
     "name": "#%%\n"
    }
   },
   "outputs": [
    {
     "name": "stdout",
     "output_type": "stream",
     "text": [
      "              precision    recall  f1-score   support\n",
      "\n",
      "  irrelevant       0.88      0.90      0.89       105\n",
      "    negative       0.76      0.59      0.67        49\n",
      "     neutral       0.78      0.85      0.81       156\n",
      "    positive       0.60      0.47      0.53        32\n",
      "\n",
      "    accuracy                           0.80       342\n",
      "   macro avg       0.76      0.70      0.72       342\n",
      "weighted avg       0.79      0.80      0.79       342\n",
      "\n"
     ]
    }
   ],
   "source": [
    "weekday_test_feature = np.array(test['TweetDate'].apply(lambda s: s.split()[0])).reshape(-1, 1)\n",
    "hour_test_feature = np.array(test['TweetDate'].apply(lambda s: time.fromisoformat(s.split()[3]).hour)).reshape(-1, 1)\n",
    "\n",
    "print(classification_report(test['Sentiment'], clf_sentiment_with_time.predict(hstack([\n",
    "    sentiment_vectorizer.transform(tweets_test_texts),\n",
    "    org_encoder_weekday.transform(weekday_test_feature),\n",
    "    org_encoder_hours.transform(hour_test_feature)]))))\n"
   ]
  },
  {
   "cell_type": "markdown",
   "metadata": {
    "pycharm": {
     "name": "#%% md\n"
    }
   },
   "source": [
    "### Expand 3 sentiment classes to 5.\n",
    "Use `sentiment_feature` from first sentiment prediction (by text and organization info) for regression."
   ]
  },
  {
   "cell_type": "code",
   "execution_count": 9,
   "metadata": {
    "pycharm": {
     "name": "#%%\n"
    }
   },
   "outputs": [
    {
     "name": "stdout",
     "output_type": "stream",
     "text": [
      "              precision    recall  f1-score   support\n",
      "\n",
      "  irrelevant       0.85      0.89      0.87       105\n",
      "    negative       0.72      0.53      0.61        49\n",
      "     neutral       0.76      0.84      0.80       156\n",
      "    positive       0.50      0.38      0.43        32\n",
      "\n",
      "    accuracy                           0.77       342\n",
      "   macro avg       0.71      0.66      0.68       342\n",
      "weighted avg       0.76      0.77      0.76       342\n",
      "\n",
      "mean_absolute_error:  0.25502231674475795\n",
      "mean_squared_error:  0.15936363813354903\n"
     ]
    }
   ],
   "source": [
    "clf_sentiment5 = RidgeClassifier()\n",
    "clf_sentiment5.fit(sentiment_feature, train['Sentiment'])\n",
    "\n",
    "print(classification_report(test['Sentiment'], clf_sentiment5.predict(test_sentiment_feature)))\n",
    "\n",
    "d = {'positive': +1, 'neutral': 0, 'negative': -1, 'irrelevant': 0}\n",
    "sentiment_train_val = train['Sentiment'].apply(lambda s: d[s])\n",
    "regressor = Ridge()\n",
    "regressor.fit(sentiment_feature, sentiment_train_val)\n",
    "\n",
    "sentiment_test_val = test['Sentiment'].apply(lambda s: d[s])\n",
    "print(\"mean_absolute_error: \", mean_absolute_error(sentiment_test_val, regressor.predict(test_sentiment_feature)))\n",
    "print(\"mean_squared_error: \", mean_squared_error(sentiment_test_val, regressor.predict(test_sentiment_feature)))"
   ]
  },
  {
   "cell_type": "markdown",
   "metadata": {},
   "source": [
    "Transform from (-1, 1) to {-2, -1, 0, 1, 2}, by splitting to 5 eq segments (with converting values >= 1 to 0.99 and  <= -1 to -0.99)"
   ]
  },
  {
   "cell_type": "code",
   "execution_count": 10,
   "metadata": {
    "pycharm": {
     "name": "#%%\n"
    }
   },
   "outputs": [
    {
     "name": "stdout",
     "output_type": "stream",
     "text": [
      "statistic res: {-2.0: 10, -1.0: 58, 0.0: 232, 1.0: 34, 2.0: 8}\n"
     ]
    }
   ],
   "source": [
    "res5_pred_feature = np.vectorize(lambda x: np.round(max(min(x, 0.99), -0.99) * 2.5))(regressor.predict(test_sentiment_feature))\n",
    "unique, counts = np.unique(res5_pred_feature, return_counts=True)\n",
    "print(\"statistic res:\", dict(zip(unique, counts)))"
   ]
  },
  {
   "cell_type": "code",
   "execution_count": null,
   "metadata": {},
   "outputs": [],
   "source": []
  }
 ],
 "metadata": {
  "kernelspec": {
   "display_name": "Python 3 (ipykernel)",
   "language": "python",
   "name": "python3"
  },
  "language_info": {
   "codemirror_mode": {
    "name": "ipython",
    "version": 3
   },
   "file_extension": ".py",
   "mimetype": "text/x-python",
   "name": "python",
   "nbconvert_exporter": "python",
   "pygments_lexer": "ipython3",
   "version": "3.9.10"
  }
 },
 "nbformat": 4,
 "nbformat_minor": 1
}
